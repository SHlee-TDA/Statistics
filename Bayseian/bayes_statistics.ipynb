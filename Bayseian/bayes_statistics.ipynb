{
 "cells": [
  {
   "cell_type": "code",
   "execution_count": 2,
   "metadata": {},
   "outputs": [
    {
     "name": "stdout",
     "output_type": "stream",
     "text": [
      "P(A|B) =  0.0033891547049441782\n"
     ]
    }
   ],
   "source": [
    "from bayes_theorem import bayes_theorem\n",
    "\n",
    "'''\n",
    "Problem : Let A be the event which a randomly chosen paitent has a cancer, and B be the event which a doctor detect the cancer.\n",
    "Find P(A|B).\n",
    "'''\n",
    "\n",
    "# Given informations\n",
    "p_a = 0.0002        # The cancer rate in the population\n",
    "p_b_given_a = 0.85\n",
    "p_b_given_not_a = 0.05\n",
    "\n",
    "# Result\n",
    "p_a_given_b = bayes_theorem(p_a, p_b_given_a, p_b_given_not_a)\n",
    "\n",
    "print('P(A|B) = ', p_a_given_b)\n"
   ]
  },
  {
   "cell_type": "code",
   "execution_count": null,
   "metadata": {},
   "outputs": [],
   "source": [
    "'this is a test'"
   ]
  }
 ],
 "metadata": {
  "kernelspec": {
   "display_name": "Python 3.8.13 ('math')",
   "language": "python",
   "name": "python3"
  },
  "language_info": {
   "codemirror_mode": {
    "name": "ipython",
    "version": 3
   },
   "file_extension": ".py",
   "mimetype": "text/x-python",
   "name": "python",
   "nbconvert_exporter": "python",
   "pygments_lexer": "ipython3",
   "version": "3.8.13"
  },
  "orig_nbformat": 4,
  "vscode": {
   "interpreter": {
    "hash": "0fb1f14bf5a5e63c372e9ab339d2253d97e7f3854b0587dace1623dbce563f46"
   }
  }
 },
 "nbformat": 4,
 "nbformat_minor": 2
}
