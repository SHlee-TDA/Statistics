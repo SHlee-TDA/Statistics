{
 "cells": [
  {
   "cell_type": "markdown",
   "metadata": {},
   "source": [
    "# Chapter 1. Basic Concepts of Set Theory"
   ]
  },
  {
   "cell_type": "markdown",
   "metadata": {},
   "source": [
    "## 1.1 Some Definitions and Notation\n",
    "\n",
    "A *set* $S$ is a (well defined) collection of distinct objects which we denote by $s$.\n",
    "The fact that $s$ is *a member of $S$*, an *element of $S$*, or that it *belongs to $S$* is expressed by writing $s \\in S$.\n",
    "The negation of the statement is expressed by writing $s \\notin S$.\n",
    "We say that $S'$ is a *subset of $S$*, or that $S'$ *is contained in $S$*, and write $S' \\subseteq S$, if for every $s \\in S'$, we have $s \\in S$.\n",
    "$S'$ is said to be a *proper subset of $S$*, and we write $S' \\subset S$, if $S' \\subseteq S$ and there exists $s\\in S$ such that $s \\notin S'$."
   ]
  },
  {
   "cell_type": "code",
   "execution_count": 5,
   "metadata": {},
   "outputs": [
    {
     "name": "stdout",
     "output_type": "stream",
     "text": [
      "<class 'set'>\n"
     ]
    },
    {
     "data": {
      "text/plain": [
       "True"
      ]
     },
     "execution_count": 5,
     "metadata": {},
     "output_type": "execute_result"
    }
   ],
   "source": [
    "# 'set' data in Python\n",
    "S = {1,2,3}\n",
    "print(type(S))\n"
   ]
  },
  {
   "cell_type": "code",
   "execution_count": 13,
   "metadata": {},
   "outputs": [
    {
     "name": "stdout",
     "output_type": "stream",
     "text": [
      "True\n"
     ]
    }
   ],
   "source": [
    "# s in S? \n",
    "s = 1\n",
    "print(s in S)"
   ]
  },
  {
   "cell_type": "code",
   "execution_count": 12,
   "metadata": {},
   "outputs": [
    {
     "name": "stdout",
     "output_type": "stream",
     "text": [
      "True\n"
     ]
    }
   ],
   "source": [
    "# s not in S?\n",
    "s = 4\n",
    "print(s not in S)"
   ]
  },
  {
   "cell_type": "code",
   "execution_count": 14,
   "metadata": {},
   "outputs": [
    {
     "name": "stdout",
     "output_type": "stream",
     "text": [
      "True\n"
     ]
    }
   ],
   "source": [
    "# Is S_dash subset of S?\n",
    "S_dash = {1,2}\n",
    "print(S_dash.issubset(S))"
   ]
  },
  {
   "cell_type": "code",
   "execution_count": 15,
   "metadata": {},
   "outputs": [
    {
     "name": "stdout",
     "output_type": "stream",
     "text": [
      "False\n"
     ]
    }
   ],
   "source": [
    "# Is S_dash not subset of S?\n",
    "S_dash = {1,4}\n",
    "print(S_dash.issubset(S))"
   ]
  },
  {
   "cell_type": "markdown",
   "metadata": {},
   "source": [
    "From now on a *basic*, or *universal* set, or *space* (which may be different from situation), to be denoted by $S$, will be considered and all other sets in question will be subsets of $S$."
   ]
  },
  {
   "cell_type": "markdown",
   "metadata": {},
   "source": [
    "### 1.1.1 Set Operations\n",
    "\n",
    "**Definition)**\n",
    "1. The *complement* (with respect to $\\mathcal{S}$) of the set $A$, denoted by $A^c$, is defined by $A^c = \\left\\{s \\in S; s \\notin A\\right\\}$.\n",
    "2. The *union* of the sets $A_j, j=1,2,\\ldots,n$, to be denoted by $$A_1\\cup A_2\\cup \\cdots \\cup A_n \\text{ or } \\cup_{j=1}^n A_j,$$ is defined by $$\\cup_{j=1}^n A_j = \\left\\{s \\in S ; s \\in A_j \\text{ for at least one } j=1,2,\\ldots,n\\right\\}$$. This definition extends to an infinite number of sets. Thus for denumerably many sets, one has $$\\cup_{j=1}^\\infty A_j = \\left\\{s \\in S ; s \\in A_j \\text{ for at least one } j=1,2,\\ldots\\right\\}$$.\n",
    "3. The *intersection* of the sets $A_j, j=1,2,\\ldots,n$, to be denoted by $$ A_1\\cap A_2\\cap \\cdots \\cap A_n \\text{ or } \\cap_{j=1}^n A_j,$$ is defined by $$\\cap_{j=1}^n A_j = \\left\\{s \\in S ; s \\in A_j \\text{ for all } j=1,2,\\ldots,n\\right\\}$$. This definition extends to an infinite number of sets. Thus for denumerably many sets, one has $$\\cap_{j=1}^\\infty A_j = \\left\\{s \\in S ; s \\in A_j \\text{ for all } j=1,2,\\ldots\\right\\}$$.\n",
    "4. The *difference* $A_1 - A_2$ is defined by $$A_1 - A_2 = \\left\\{s \\in S; s\\in A_1, s\\notin A_2\\right\\}.$$ Symmetrically, $$A_2 - A_1 = \\left\\{s \\in S; s\\in A_2, s\\notin A_1\\right\\}.$$ Note that $A_1 - A_2 = A_1 \\cap A_2^c, A_2 - A_1 = A_2 \\cap A_1^c$, and that, in general, $A_1 - A_2 \\neq A_2-A_1$.\n",
    "5. The *symmetric difference* $A_1 \\Delta A_2$ is defined by $$A_1 \\Delta A_2 = (A_1 - A_2) \\cup (A_2 - A_1).$$ Note that $$A_1 \\Delta A_2 = (A_1 \\cup A_2) - (A_1\\cap A_2).$$"
   ]
  },
  {
   "cell_type": "code",
   "execution_count": 16,
   "metadata": {},
   "outputs": [
    {
     "name": "stdout",
     "output_type": "stream",
     "text": [
      "{4, 5, 6, 7, 8, 9, 10}\n"
     ]
    }
   ],
   "source": [
    "# complement of A\n",
    "S = {1,2,3,4,5,6,7,8,9,10}\n",
    "A = {1,2,3}\n",
    "A_c = S - A\n",
    "print(A_c)"
   ]
  },
  {
   "cell_type": "code",
   "execution_count": 18,
   "metadata": {},
   "outputs": [
    {
     "name": "stdout",
     "output_type": "stream",
     "text": [
      "{1, 2, 3, 4, 5}\n"
     ]
    }
   ],
   "source": [
    "# union of two sets\n",
    "A = {1,2,3}\n",
    "B = {3,4,5}\n",
    "print(A|B)"
   ]
  },
  {
   "cell_type": "code",
   "execution_count": 19,
   "metadata": {},
   "outputs": [
    {
     "name": "stdout",
     "output_type": "stream",
     "text": [
      "{1, 2, 3, 4, 5}\n"
     ]
    }
   ],
   "source": [
    "# union of two sets (2)\n",
    "A = {1,2,3}\n",
    "B = {3,4,5}\n",
    "print(A.union(B))"
   ]
  },
  {
   "cell_type": "code",
   "execution_count": 20,
   "metadata": {},
   "outputs": [
    {
     "name": "stdout",
     "output_type": "stream",
     "text": [
      "{3}\n"
     ]
    }
   ],
   "source": [
    "# intersection of two sets\n",
    "A = {1,2,3}\n",
    "B = {3,4,5}\n",
    "print(A&B)"
   ]
  },
  {
   "cell_type": "code",
   "execution_count": 21,
   "metadata": {},
   "outputs": [
    {
     "name": "stdout",
     "output_type": "stream",
     "text": [
      "{3}\n"
     ]
    }
   ],
   "source": [
    "# intersection of two sets (2)\n",
    "A = {1,2,3}\n",
    "B = {3,4,5}\n",
    "print(A.intersection(B))"
   ]
  },
  {
   "cell_type": "code",
   "execution_count": 22,
   "metadata": {},
   "outputs": [
    {
     "name": "stdout",
     "output_type": "stream",
     "text": [
      "{1, 2}\n"
     ]
    }
   ],
   "source": [
    "# difference of two sets \n",
    "A = {1,2,3}\n",
    "B = {3,4,5}\n",
    "print(A-B)"
   ]
  },
  {
   "cell_type": "code",
   "execution_count": 26,
   "metadata": {},
   "outputs": [
    {
     "name": "stdout",
     "output_type": "stream",
     "text": [
      "{4, 5}\n"
     ]
    }
   ],
   "source": [
    "# difference of two sets (2)\n",
    "A = {1,2,3}\n",
    "B = {3,4,5}\n",
    "print(B.difference(A))"
   ]
  },
  {
   "cell_type": "code",
   "execution_count": 25,
   "metadata": {},
   "outputs": [
    {
     "data": {
      "text/plain": [
       "False"
      ]
     },
     "execution_count": 25,
     "metadata": {},
     "output_type": "execute_result"
    }
   ],
   "source": [
    "# difference of two sets (3)\n",
    "A = {1,2,3}\n",
    "B = {3,4,5}\n",
    "\n",
    "A - B == B - A"
   ]
  },
  {
   "cell_type": "code",
   "execution_count": 28,
   "metadata": {},
   "outputs": [
    {
     "data": {
      "text/plain": [
       "{1, 2, 5, 6}"
      ]
     },
     "execution_count": 28,
     "metadata": {},
     "output_type": "execute_result"
    }
   ],
   "source": [
    "# symmetric difference of two sets (1)\n",
    "A = {1,2,3,4}\n",
    "B = {3,4,5,6}\n",
    "(A-B)|(B-A)"
   ]
  },
  {
   "cell_type": "code",
   "execution_count": 29,
   "metadata": {},
   "outputs": [
    {
     "data": {
      "text/plain": [
       "{1, 2, 5, 6}"
      ]
     },
     "execution_count": 29,
     "metadata": {},
     "output_type": "execute_result"
    }
   ],
   "source": [
    "# symmetric difference of two sets (2)\n",
    "A = {1,2,3,4}\n",
    "B = {3,4,5,6}\n",
    "(A|B)-(A&B)"
   ]
  },
  {
   "cell_type": "code",
   "execution_count": 30,
   "metadata": {},
   "outputs": [
    {
     "data": {
      "text/plain": [
       "{1, 2, 5, 6}"
      ]
     },
     "execution_count": 30,
     "metadata": {},
     "output_type": "execute_result"
    }
   ],
   "source": [
    "# symmetric difference of two sets (3)\n",
    "A = {1,2,3,4}\n",
    "B = {3,4,5,6}\n",
    "A.symmetric_difference(B)"
   ]
  },
  {
   "cell_type": "markdown",
   "metadata": {},
   "source": [
    "### 1.1.2 Further Definitions and Notation\n",
    "A set which contains no elements is called the *empty set* and is denoted by $\\empty$.\n",
    "Two sets $A_1,A_2$ are said to be *disjoint* if $A_1 \\cap A_2 = \\empty$.\n",
    "Two sets $A_1, A_2$ are said to be $equal$, and we write $A_1 = A_2$, if both $A_1 \\subseteq A_2$ and $A_2\\subseteq A_1$.\n",
    "The sets $A_j, j=1,2,\\ldots$ are said to be *pairwise* or *mutually disjoint* if $A_i \\cap A_j = \\empty$ for all $i\\neq j$.\n",
    "In such a case, it is customary to write $$A_1 + A_2, A_1+\\cdots + A_n = \\sum_{j=1}^n A_j, \\text{ and } A_1+A_2+\\cdots = \\sum_{j=1}^\\infty A_j$$\n",
    "instead of $A_1 \\cup A_2, \\cup_{j=1}^n A_j$, and $\\cup_{j=1}^\\infty A_j$, respectively."
   ]
  },
  {
   "cell_type": "code",
   "execution_count": 51,
   "metadata": {},
   "outputs": [
    {
     "name": "stdout",
     "output_type": "stream",
     "text": [
      "set()\n"
     ]
    }
   ],
   "source": [
    "# empty\n",
    "empty = set()\n",
    "print(empty)"
   ]
  },
  {
   "cell_type": "code",
   "execution_count": 54,
   "metadata": {},
   "outputs": [
    {
     "name": "stdout",
     "output_type": "stream",
     "text": [
      "A1 and A2 are disjoint.\n"
     ]
    }
   ],
   "source": [
    "# Disjoint\n",
    "A1 = {1,2,3}\n",
    "A2 = {4,5,6}\n",
    "if A1&A2 == empty:\n",
    "    print('A1 and A2 are disjoint.')"
   ]
  },
  {
   "cell_type": "code",
   "execution_count": 43,
   "metadata": {},
   "outputs": [
    {
     "data": {
      "text/plain": [
       "True"
      ]
     },
     "execution_count": 43,
     "metadata": {},
     "output_type": "execute_result"
    }
   ],
   "source": [
    "# Equal\n",
    "A1 = {1,2,3}\n",
    "A2 = {1,2,3}\n",
    "A1 == A2"
   ]
  },
  {
   "cell_type": "markdown",
   "metadata": {},
   "source": [
    "### 1.1.3 Properties of the Operations on Sets\n",
    "1. $S^c = \\empty$, $\\empty^c = S$, $(A^c)^c = A$.\n",
    "2. $S\\cup A =S$, $\\empty \\cup A = A$, $A\\cup A^c = S$, $A\\cup A = A$.\n",
    "3. $S \\cap A = A$, $\\empty \\cap A = \\empty$, $A\\cap A^c = \\empty$, $A\\cap A = A$."
   ]
  },
  {
   "cell_type": "code",
   "execution_count": 50,
   "metadata": {},
   "outputs": [
    {
     "name": "stdout",
     "output_type": "stream",
     "text": [
      "set()\n",
      "{1, 2, 3, 4, 5, 6, 7, 8, 9, 10}\n",
      "{4, 5, 6, 7, 8, 9, 10}\n",
      "{1, 2, 3}\n"
     ]
    }
   ],
   "source": [
    "# 1\n",
    "S = {1,2,3,4,5,6,7,8,9,10}\n",
    "empty = set()\n",
    "A = {1,2,3}\n",
    "\n",
    "S_c = S-S\n",
    "empty_c = S-set()\n",
    "A_c = S-A\n",
    "A_c_c = S-A_c\n",
    "\n",
    "print(S_c)\n",
    "print(empty_c)\n",
    "print(A_c)\n",
    "print(A_c_c)\n"
   ]
  },
  {
   "cell_type": "code",
   "execution_count": 56,
   "metadata": {},
   "outputs": [
    {
     "name": "stdout",
     "output_type": "stream",
     "text": [
      "True\n",
      "True\n",
      "True\n",
      "True\n"
     ]
    }
   ],
   "source": [
    "# 2\n",
    "print(S|A == S)\n",
    "print(empty|A == A)\n",
    "print(A|A_c == S)\n",
    "print(A|A == A)"
   ]
  },
  {
   "cell_type": "code",
   "execution_count": 57,
   "metadata": {},
   "outputs": [
    {
     "name": "stdout",
     "output_type": "stream",
     "text": [
      "True\n",
      "True\n",
      "True\n",
      "True\n"
     ]
    }
   ],
   "source": [
    "# 3\n",
    "print(S&A == A)\n",
    "print(empty&A == empty)\n",
    "print(A&A_c == empty)\n",
    "print(A&A == A)"
   ]
  },
  {
   "cell_type": "markdown",
   "metadata": {},
   "source": [
    "4. $A_1 \\cup (A_2 \\cup A_3) = (A_1 \\cup A_2) \\cup A_3$, $A_1 \\cap (A_2 \\cap A_3) = (A_1 \\cap A_2) \\cap A_3$ (Associative laws)\n",
    "5. $A_1 \\cup A_2 = A_2 \\cup A_1$, $A_1 \\cap A_2 = A_2 \\cap A_1$ (Commutative laws)\n",
    "6. $A\\cap (\\cup_j A_j) = \\cup_j(A\\cap A_j)$, $A\\cup (\\cap_j A_j) = \\cap_j (A\\cup A_j)$ (Distributive laws)"
   ]
  },
  {
   "cell_type": "code",
   "execution_count": 58,
   "metadata": {},
   "outputs": [
    {
     "name": "stdout",
     "output_type": "stream",
     "text": [
      "True\n",
      "True\n"
     ]
    }
   ],
   "source": [
    "# 4\n",
    "A1 = {1,2,3}\n",
    "A2 = {3,4,5}\n",
    "A3 = {5,6,7}\n",
    "\n",
    "print(A1|(A2|A3) == (A1|A2)|A3)\n",
    "print(A1&(A2&A3) == (A1&A2)&A3)"
   ]
  },
  {
   "cell_type": "code",
   "execution_count": 59,
   "metadata": {},
   "outputs": [
    {
     "name": "stdout",
     "output_type": "stream",
     "text": [
      "True\n",
      "True\n"
     ]
    }
   ],
   "source": [
    "# 5\n",
    "print(A1|A2 == A2|A1)\n",
    "print(A1&A2 == A2&A1)"
   ]
  },
  {
   "cell_type": "code",
   "execution_count": 68,
   "metadata": {},
   "outputs": [
    {
     "name": "stdout",
     "output_type": "stream",
     "text": [
      "{1, 3, 5}\n",
      "{1, 3, 5}\n",
      "True\n",
      "{1, 3, 5}\n",
      "{1, 3, 5}\n",
      "True\n"
     ]
    }
   ],
   "source": [
    "# 6\n",
    "A = {1,3,5}\n",
    "\n",
    "print(A&(A1|A2|A3))\n",
    "print((A&A1)|(A&A2)|(A&A3))\n",
    "print(A&(A1|A2|A3) == (A&A1)|(A&A2)|(A&A3))\n",
    "\n",
    "print(A|(A1&A2&A3))\n",
    "print((A|A1)&(A|A2)&(A|A3))\n",
    "print(A|(A1&A2&A3) == (A|A1)&(A|A2)&(A|A3))"
   ]
  },
  {
   "cell_type": "markdown",
   "metadata": {},
   "source": [
    "The following identity is a useful tool in writing a union of sets as a sum of disjoint sets.\n",
    "\n",
    "**An identity:**\n",
    "$$\\cup_j A_j = A_1 + (A_1^c\\cap A_2) + (A_1^c\\cap A_2^c\\cap A_3) + \\cdots .$$\n",
    "\n",
    "**De Morgan's laws:**\n",
    "$$ \\left(\\cup_j A_j\\right)^c = \\cap_j A_j^c,$$\n",
    "$$ \\left(\\cap_j A_j\\right)^c = \\cup_j A_j^c.$$"
   ]
  },
  {
   "cell_type": "markdown",
   "metadata": {},
   "source": [
    "**Definition 1)**\n",
    "The sequence $\\left\\{A_n\\right\\}, n=1,2,\\ldots$, is said to be a *monotone sequence* of sets if: \n",
    "1. $A_1 \\subseteq A_2 \\subseteq A_3 \\subseteq \\cdots$ (that is, $A_n$ is *increasing*, to be denoted by $A_n \\uparrow$), or\n",
    "2. $A_1 \\supseteq A_2 \\supseteq A_3 \\supseteq \\cdots$ (that is, $A_n$ is *decreasing*, to be denoted by $A_n \\downarrow$).\n",
    "The *limit* of a monotone sequence is defined as follows:\n",
    "1. If $A_n \\uparrow$, then $\\lim_{n\\to\\infty} A_n = \\cup_{n=1}^\\infty A_n$, and\n",
    "2. If $A_n \\downarrow$, then $\\lim_{n\\to\\infty} A_n = \\cap_{n=1}^\\infty A_n$.\n",
    "   \n",
    "More generally, for any sequence $\\left\\{A_n\\right\\}, n=1,2,\\ldots$, we define $$\\underbar{A} = \\liminf_{n\\to\\infty} A_n = \\cup_{n=1}^\\infty \\cap_{j=n}^\\infty A_j,$$ and $$\\bar{A} = \\limsup_{n\\to\\infty} A_n = \\cap_{n=1}^\\infty\\cup_{j=n}^\\infty A_j.$$\n",
    "\n",
    "The sets $\\underbar{A}$ and $\\bar{A}$ are called the *inferior limit* and *superior limit*, respectively, of the sequence $\\left\\{A_n\\right\\}$.\n",
    "The sequence $\\left\\{A_n\\right\\}$ has a *limit* if $\\underbar{A} = \\bar{A}$."
   ]
  },
  {
   "cell_type": "markdown",
   "metadata": {},
   "source": [
    "## 1.2 Fields and $\\sigma$-Fields\n",
    "\n",
    "**Definition 2)**\n",
    "A class (set) of subsets of $S$ is said to be a *field*, and is denoted by $\\mathcal{F}$, if \n",
    "- $(\\mathcal{F}1)$ $\\mathcal{F}$ is a non-empty class.\n",
    "- $(\\mathcal{F}2)$ $A\\in \\mathcal{F}$ implies that $A^c \\in \\mathcal{F}$ (that is, $\\mathcal{F}$ is closed under complementation).\n",
    "- $(\\mathcal{F}3)$ $A_1, A_2 \\in \\mathcal{F}$ implies that $A_1 \\cup A_2 \\in \\mathcal{F}$ (that is, $\\mathcal{F}$ is closed under pairwise unions)."
   ]
  },
  {
   "cell_type": "markdown",
   "metadata": {},
   "source": [
    "### 1.2.1 Consequences of the Definition of a Field\n",
    "1. $S, \\empty \\in \\mathcal{F}$.\n",
    "2. If $A_j \\in \\mathcal{F}, j=1,2,\\ldots, n$, then $\\cup_{j=1}^n A_j \\in \\mathcal{F}, \\cap_{j=1}^n A_j \\in \\mathcal{F}$ for any finite $n$.\n",
    "\n",
    "That is, $\\mathcal{F}$ is closed under finite unions and intersections.\n",
    "Notice, however, that $A_j \\in \\mathcal{F}, j=1,2,\\ldots$ need not imply that their union or intersection is in $\\mathcal{F}$.\n",
    "\n"
   ]
  },
  {
   "cell_type": "markdown",
   "metadata": {},
   "source": [
    "### 1.2.2 Examples of Fields\n",
    "1. $C_1 = \\left\\{\\empty, S\\right\\}$ is a field (*trivial field*)\n",
    "2. $C_2 = \\left\\{\\text{all subsets of } S\\right\\}$ is a field (*discrete field*).\n",
    "3. $C_3 = \\left\\{\\empty, S, A, A^c\\right\\}$, for some $\\empty \\subset A \\subset S$, is a field.\n",
    "4. Let $S$ be infinite (countably so or not) and let $C_4$ be the class of subsets of $S$ which are finite, or whose complements are finite; that is, $C_4 = \\left\\{A \\subset S; A \\text{ or } A^c \\text{ is finite}\\right\\}$.\n",
    "\n",
    "\n",
    "**Theorem 1**\n",
    "Let $I$ be any non-empty index set (finite, or countably infinite, or uncountable), and let $\\mathcal{F}_i, i \\in I$ be fields of subsets of $S$. \n",
    "Define $\\mathcal{F}$ by $\\mathcal{F} = \\cap_{j\\in I} \\mathcal{F}_j = \\left\\{A ; A\\in \\mathcal{F}_j \\text{ for all }j \\in I\\right\\}$.\n",
    "Then $\\mathcal{F}$ is a field.\n",
    "\n",
    "**Theorem 2**\n",
    "Let $C$ be an arbitrary class of subsets of $S$.\n",
    "Then there is a unique minimal field $\\mathcal{F}$ containing $C$. (We say that $\\mathcal{F}$ is *generated* by $C$ and write $\\mathcal{F} = \\mathcal{F}(C)$.)\n",
    "\n",
    "**Definition 3**\n",
    "A class of subsets of $S$ is said to be a *$\\sigma$-field*, and is denoted by $\\mathcal{A}$, if it is a field and furthermore $(\\mathcal{F}3)$ is replaced by $(\\mathcal{A}3)$: If $A_j \\in \\mathcal{A}, j=1,2,\\ldots$, then $\\cup_{j=1}^\\infty A_j \\in \\mathcal{A}$ (that is, $\\mathcal{A}$ is closed under denumerable unions)."
   ]
  },
  {
   "cell_type": "markdown",
   "metadata": {},
   "source": [
    "### 1.2.3 Consequences of the Definition of a $\\sigma$-Field\n",
    "1. If $A_j \\in \\mathcal{A}, j = 1,2,\\ldots$, then $\\cap_{j=1}^\\infty A_j \\in \\mathcal{A}$ (that is, $\\mathcal{A}$ is closed under denumerable intersections).\n",
    "2. By definition, a $\\sigma$-field is a field, but the converse is not true. In fact, in Example 4 on 1.2.2, take $S = (-\\infty, \\infty)$, and define $A_j = \\left\\{\\text{all integers in } [-j,j]\\right\\}, j=1,2,\\ldots$. Then $\\cup_{j=1}^\\infty A_j$ is the set $A$, say, of all integers. Thuse $A$ is infinite and furthermore so is $A^c$. Hence $A\\notin \\mathcal{F}$, whereas $A_j \\in \\mathcal{F}$ for all $j$."
   ]
  },
  {
   "cell_type": "markdown",
   "metadata": {},
   "source": [
    "### 1.2.4 Examples of $\\sigma$-Fields\n",
    "1. $C_1 = \\left\\{\\empty, S\\right\\}$ is a $\\sigma$-field (*trivial $\\sigma$-field*)\n",
    "2. $C_2 = \\left\\{\\text{all subsets of } S\\right\\}$ is a $\\sigma$-field (*discrete $\\sigma$-field*).\n",
    "3. $C_3 = \\left\\{\\empty, S, A, A^c\\right\\}$, for some $\\empty \\subset A \\subset S$, is a $\\sigma$-field.\n",
    "4. Take $S$ to be uncoundable and define $C_4$ as follows: $C_4 = \\left\\{A \\subset S; A \\text{ or } A^c \\text{ is countable}\\right\\}$.\n",
    "\n",
    "**Theorem 3** \n",
    "Let $I$ be as in Theorem 1, and let $\\mathcal{A}_j, j\\in I$, be $\\sigma$-fields. \n",
    "Define $\\mathcal{A}$ by $\\mathcal{A} = \\cap_{j\\in I} \\mathcal{A}_j = \\left\\{A; A \\in \\mathcal{A}_j \\text{ for all } j \\in I\\right\\}$. \n",
    "Then $\\mathcal{A}$ is a $\\sigma$-field.\n",
    "\n",
    "**Theorem 4**\n",
    "Let $C$ be an arbitrary class of subsets of $S$.\n",
    "Then there is a unique minimal $\\sigma$-field $\\mathcal{A}$ containing $C$. (We say that $\\mathcal{A}$ is *generated* by $C$ and write $\\mathcal{A} = \\sigma(C)$.)\n",
    "\n",
    "*Remark 1*\n",
    "For later use, we note that if $\\mathcal{A}$ is a $\\sigma$-field and $A\\in \\mathcal{A}$, then $\\mathcal{A}_A = \\left\\{C; C=B\\cap A \\text{ for some } B \\in \\mathcal{A}\\right\\}$ is a $\\sigma$-field, where complements of sets are formed with respect to $A$, which now plays the role of the entire space.\n",
    "This is easily seen to be true by the distributive property of intersection over union.\n",
    "\n",
    "In all that follows, if $S$ is countable (that is, finite or denumerably infinite), we will always take $\\mathcal{A}$ to be the discrete $\\sigma$-field.\n",
    "However, if $S$ is uncountable, then for certain technical reasons, we take the $\\sigma$-field to be \"smaller\" than the discrete one. \n",
    "In both cases, the pair $(S, \\mathcal{A})$ is called a *measurable space*."
   ]
  },
  {
   "cell_type": "markdown",
   "metadata": {},
   "source": [
    "### 1.2.5 Special Cases of Measurable Spaces\n",
    "1. Let $S$ be $\\mathbb{R}$ and define $C_0$ as follows: $$C_0 = \\left\\{\\text{all intervals in }\\mathbb{R}\\right\\} = \\left\\{(-\\infty,x),(-\\infty,x],(x,\\infty),[x,\\infty), (x,y),(x,y],[x,y), [x,y]; x,y\\in\\mathbb{R},x<y\\right\\}.$$ By Theorem 4, there is a $\\sigma$-field $\\mathcal{A} = \\sigma(C_0)$; we denote this $\\sigma$-field by $\\mathcal{B}$ and call it the *Borel $\\sigma$-field* (over the real line). The pair $(\\mathbb{R}, \\mathcal{B})$ is called the *Borel real line*.\n",
    "\n",
    "**Theorem 5**\n",
    "Each one of the following classes generates the Borel $\\sigma$-field.\n",
    "$$C_1 = \\left\\{(x,y]; x,y\\in \\mathbb{R}, x<y\\right\\}$$\n",
    "$$C_2 = \\left\\{[x,y); x,y\\in \\mathbb{R}, x<y\\right\\}$$\n",
    "$$C_3 = \\left\\{[x,y]; x,y\\in \\mathbb{R}, x<y\\right\\}$$\n",
    "$$C_4 = \\left\\{(x,y); x,y\\in \\mathbb{R}, x<y\\right\\}$$\n",
    "$$C_5 = \\left\\{(x,\\infty); x\\in \\mathbb{R}\\right\\}$$\n",
    "$$C_6 = \\left\\{[x,\\infty); x\\in \\mathbb{R}\\right\\}$$\n",
    "$$C_7 = \\left\\{(-\\infty,x); x\\in \\mathbb{R}\\right\\}$$\n",
    "$$C_8 = \\left\\{(-\\infty,x]; x\\in \\mathbb{R}\\right\\}$$\n",
    "Also the classes $C'_j, j =1,\\ldots,8$ generate the Borel $\\sigma$-field, where for $j=1,\\ldots, 8$, $C'_j$ is defined the same way as $C_j$ is except that $x,y$ are restricted to the rational numbers.\n",
    "\n",
    "   2. Let $S = \\mathbb{R}^2$ and define $C_0$ as follows: $$C_0 =\\left\\{\\text{all rectangles in } \\mathbb{R}^2\\right\\}.$$ The $\\sigma$-field generated by $C_0$ is denoted by $\\mathcal{B}^2$ and is the *two-dimensional Borel $\\sigma$-field*. A theorem similar to Theorem 5 holds here too.\n",
    "   3.  Let $S =\\mathbb{R}^k$ and define $C_0$ in a way similar to that 2 above. The $\\sigma$-field generated by $C_0$ is denoted by $\\mathcal{B}^k$ and is the *$k$-dimensional Borel $\\sigma$-field*. A theorem similar to Theorem 5 holds here too."
   ]
  }
 ],
 "metadata": {
  "interpreter": {
   "hash": "d0f28442413d67dee197bf0b8721c3fe357c0ac66ce9cd3732b0358fb95b90c3"
  },
  "kernelspec": {
   "display_name": "Python 3.8.13 ('tf_25')",
   "language": "python",
   "name": "python3"
  },
  "language_info": {
   "codemirror_mode": {
    "name": "ipython",
    "version": 3
   },
   "file_extension": ".py",
   "mimetype": "text/x-python",
   "name": "python",
   "nbconvert_exporter": "python",
   "pygments_lexer": "ipython3",
   "version": "3.8.13"
  },
  "orig_nbformat": 4
 },
 "nbformat": 4,
 "nbformat_minor": 2
}
